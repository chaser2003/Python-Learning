{
 "cells": [
  {
   "cell_type": "code",
   "execution_count": 1,
   "id": "85f8d5a3-2dfb-4e75-ad0a-e6b97edca58d",
   "metadata": {},
   "outputs": [
    {
     "name": "stdout",
     "output_type": "stream",
     "text": [
      "Hello, World\n"
     ]
    }
   ],
   "source": [
    "print(\"Hello, World\")"
   ]
  },
  {
   "cell_type": "code",
   "execution_count": 2,
   "id": "b5719ac9-09fb-4aeb-8599-cbb2a38cb252",
   "metadata": {},
   "outputs": [
    {
     "name": "stdout",
     "output_type": "stream",
     "text": [
      "10\n",
      "hello\n"
     ]
    }
   ],
   "source": [
    "a= 10\n",
    "print(a)\n",
    "a= \"hello\"\n",
    "print(a)"
   ]
  },
  {
   "cell_type": "code",
   "execution_count": 3,
   "id": "de76d262-2806-4fcf-bed0-c0eb5d956bf9",
   "metadata": {},
   "outputs": [
    {
     "name": "stdout",
     "output_type": "stream",
     "text": [
      "2336018223216\n",
      "2336018223728\n"
     ]
    }
   ],
   "source": [
    "a = 1000\n",
    "b = 1000\n",
    "print(id(a))\n",
    "print(id(b))\n"
   ]
  },
  {
   "cell_type": "markdown",
   "id": "1303bff5-6d39-42aa-9362-a3c8cd7ce07b",
   "metadata": {},
   "source": [
    "## DATA TYPES\n"
   ]
  },
  {
   "cell_type": "code",
   "execution_count": 5,
   "id": "061e54ce-b051-4d4d-b2a9-983cd3ebeea4",
   "metadata": {},
   "outputs": [
    {
     "name": "stdout",
     "output_type": "stream",
     "text": [
      "<class 'int'>\n",
      "<class 'str'>\n",
      "<class 'bool'>\n",
      "<class 'float'>\n",
      "<class 'complex'>\n"
     ]
    }
   ],
   "source": [
    "a = 10\n",
    "b = \"India\"\n",
    "c = True\n",
    "d = 5.6\n",
    "e = 5 + 7j\n",
    "print(type(a))\n",
    "print(type(b))\n",
    "print(type(c))\n",
    "print(type(d))\n",
    "print(type(e))\n"
   ]
  },
  {
   "cell_type": "markdown",
   "id": "cefd5b2d-b8b4-4bf8-8a31-913e38ee6a32",
   "metadata": {},
   "source": [
    "## ARITHMETIC OPERATORS"
   ]
  },
  {
   "cell_type": "code",
   "execution_count": 12,
   "id": "bb6fb619-7b38-49d7-833d-e203155a3b95",
   "metadata": {},
   "outputs": [
    {
     "name": "stdout",
     "output_type": "stream",
     "text": [
      "7\n",
      "3\n",
      "10\n",
      "2.5\n",
      "2\n",
      "1\n",
      "25\n"
     ]
    }
   ],
   "source": [
    "print(5+2)\n",
    "print(5-2)\n",
    "print(5*2)\n",
    "print(5/2)\n",
    "print(5//2)\n",
    "print(5%2)\n",
    "print(5**2)"
   ]
  },
  {
   "cell_type": "code",
   "execution_count": 16,
   "id": "6f552c8d-4f5a-4927-b2e3-49b6af31fd81",
   "metadata": {},
   "outputs": [
    {
     "name": "stdout",
     "output_type": "stream",
     "text": [
      "hello nanu\n",
      "3040\n"
     ]
    }
   ],
   "source": [
    "a = '30'\n",
    "b = '40'\n",
    "c = \"hello\"\n",
    "d = \"nanu\"\n",
    "print(c+\" \"+d)\n",
    "print(a+b)"
   ]
  },
  {
   "cell_type": "markdown",
   "id": "428b287f-aa41-484d-9367-c027afc519c0",
   "metadata": {},
   "source": [
    "## TAKING INPUT"
   ]
  },
  {
   "cell_type": "code",
   "execution_count": 8,
   "id": "9202bb29-4252-4f83-a693-a3fd4133f60f",
   "metadata": {},
   "outputs": [
    {
     "name": "stdin",
     "output_type": "stream",
     "text": [
      " 20\n"
     ]
    },
    {
     "name": "stdout",
     "output_type": "stream",
     "text": [
      "20\n"
     ]
    }
   ],
   "source": [
    "a = input()\n",
    "print(a)"
   ]
  },
  {
   "cell_type": "code",
   "execution_count": 17,
   "id": "b283631b-d8c2-400c-9372-3d3c793cd454",
   "metadata": {},
   "outputs": [
    {
     "name": "stdin",
     "output_type": "stream",
     "text": [
      "Enter the value of a 20\n",
      "Enter the value of b 30\n"
     ]
    },
    {
     "name": "stdout",
     "output_type": "stream",
     "text": [
      "20\n",
      "30\n",
      "2030\n",
      "<class 'str'>\n"
     ]
    }
   ],
   "source": [
    "a = input('Enter the value of a')\n",
    "b = input('Enter the value of b')\n",
    "print(a)\n",
    "print(b)\n",
    "print(a+b)\n",
    "print(type(a))"
   ]
  },
  {
   "cell_type": "code",
   "execution_count": 19,
   "id": "ce1de9a4-bb4a-4a8a-89a8-02b404554501",
   "metadata": {},
   "outputs": [
    {
     "name": "stdout",
     "output_type": "stream",
     "text": [
      "40\n",
      "<class 'int'>\n"
     ]
    }
   ],
   "source": [
    "a = \"40\"\n",
    "b = int(a)\n",
    "print(b)\n",
    "print(type(b))"
   ]
  },
  {
   "cell_type": "code",
   "execution_count": 20,
   "id": "4df693fe-dfd7-44d6-8528-fb6ff6c95282",
   "metadata": {},
   "outputs": [
    {
     "ename": "ValueError",
     "evalue": "invalid literal for int() with base 10: 'Hello'",
     "output_type": "error",
     "traceback": [
      "\u001b[1;31m---------------------------------------------------------------------------\u001b[0m",
      "\u001b[1;31mValueError\u001b[0m                                Traceback (most recent call last)",
      "Cell \u001b[1;32mIn[20], line 2\u001b[0m\n\u001b[0;32m      1\u001b[0m a \u001b[38;5;241m=\u001b[39m \u001b[38;5;124m\"\u001b[39m\u001b[38;5;124mHello\u001b[39m\u001b[38;5;124m\"\u001b[39m\n\u001b[1;32m----> 2\u001b[0m b \u001b[38;5;241m=\u001b[39m \u001b[38;5;28;43mint\u001b[39;49m\u001b[43m(\u001b[49m\u001b[43ma\u001b[49m\u001b[43m)\u001b[49m\n\u001b[0;32m      3\u001b[0m \u001b[38;5;28mprint\u001b[39m(b)\n\u001b[0;32m      4\u001b[0m \u001b[38;5;28mprint\u001b[39m(\u001b[38;5;28mtype\u001b[39m(b))\n",
      "\u001b[1;31mValueError\u001b[0m: invalid literal for int() with base 10: 'Hello'"
     ]
    }
   ],
   "source": [
    "a = \"Hello\"\n",
    "b = int(a)\n",
    "print(b)\n",
    "print(type(b))"
   ]
  },
  {
   "cell_type": "code",
   "execution_count": 22,
   "id": "86d8943d-2f1c-4f43-adc8-d0810ac0a4d0",
   "metadata": {},
   "outputs": [
    {
     "name": "stdout",
     "output_type": "stream",
     "text": [
      "<class 'float'>\n",
      "<class 'int'>\n",
      "27\n"
     ]
    }
   ],
   "source": [
    "a = 27.5\n",
    "b = int(a)\n",
    "print(type(a))\n",
    "print(type(b))\n",
    "print(b)"
   ]
  },
  {
   "cell_type": "markdown",
   "id": "403af938-cf4d-401c-b7e4-0bde4dd547f6",
   "metadata": {},
   "source": [
    "## FIND THE SUM OF TWO NUMBERS"
   ]
  },
  {
   "cell_type": "code",
   "execution_count": 23,
   "id": "5f92699a-ca87-46c0-a791-8cef58195de7",
   "metadata": {},
   "outputs": [
    {
     "name": "stdin",
     "output_type": "stream",
     "text": [
      "Enter the value of a:  60\n",
      "Enter the value of b:  70\n"
     ]
    },
    {
     "name": "stdout",
     "output_type": "stream",
     "text": [
      "The sum of two numbers is:  130\n"
     ]
    }
   ],
   "source": [
    "a = int(input(\"Enter the value of a: \"))\n",
    "b = int(input(\"Enter the value of b: \"))\n",
    "print(\"The sum of two numbers is: \",a+b)"
   ]
  },
  {
   "cell_type": "markdown",
   "id": "44d6121f-f7ea-4a6e-b533-ef6ac44fbee6",
   "metadata": {},
   "source": [
    "## TO FIND THE AVERAGE OF 3 NUMBERS"
   ]
  },
  {
   "cell_type": "code",
   "execution_count": 29,
   "id": "bee13a67-8641-4c40-8e94-a22867e92cdd",
   "metadata": {},
   "outputs": [
    {
     "name": "stdin",
     "output_type": "stream",
     "text": [
      "Enter the number:  75\n",
      "Enter the number:  82\n",
      "Enter the number:  93\n"
     ]
    },
    {
     "name": "stdout",
     "output_type": "stream",
     "text": [
      "the average of 3 number is:  83\n"
     ]
    }
   ],
   "source": [
    "num1 = int(input(\"Enter the number: \"))\n",
    "num2 = int(input(\"Enter the number: \"))\n",
    "num3 = int(input(\"Enter the number: \"))\n",
    "print(\"the average of 3 number is: \", (num1+num2+num3)//3)\n"
   ]
  },
  {
   "cell_type": "markdown",
   "id": "095fea2e-c361-4f45-b7df-e1bdafcb619b",
   "metadata": {},
   "source": [
    "## TO FIND AREA OF A RECTANGLE WITH GIVEN COORDINATES OF THE DIAGONAL"
   ]
  },
  {
   "cell_type": "code",
   "execution_count": 34,
   "id": "70ac8a84-1e87-4a85-b24b-e7b7871f7543",
   "metadata": {},
   "outputs": [
    {
     "name": "stdin",
     "output_type": "stream",
     "text": [
      "Enter the value of x1:  2\n",
      "Enter the value of y1:  2\n",
      "Enter the value of x2:  4\n",
      "Enter the value of y2:  4\n"
     ]
    },
    {
     "name": "stdout",
     "output_type": "stream",
     "text": [
      "Area of the Rectangle is:  4\n"
     ]
    }
   ],
   "source": [
    "x1 = int(input(\"Enter the value of x1: \"))\n",
    "y1 = int(input(\"Enter the value of y1: \"))\n",
    "x2 = int(input(\"Enter the value of x2: \"))\n",
    "y2 = int(input(\"Enter the value of y2: \"))\n",
    "print(\"Area of the Rectangle is: \", (x2-x1)*(y2-y1))"
   ]
  },
  {
   "cell_type": "code",
   "execution_count": null,
   "id": "915cb75d-90f3-412a-9528-f6ccbf221098",
   "metadata": {},
   "outputs": [],
   "source": []
  },
  {
   "cell_type": "code",
   "execution_count": null,
   "id": "bf408fa0-6d01-4a58-85c1-72186ec267ac",
   "metadata": {},
   "outputs": [],
   "source": []
  }
 ],
 "metadata": {
  "kernelspec": {
   "display_name": "Python 3 (ipykernel)",
   "language": "python",
   "name": "python3"
  },
  "language_info": {
   "codemirror_mode": {
    "name": "ipython",
    "version": 3
   },
   "file_extension": ".py",
   "mimetype": "text/x-python",
   "name": "python",
   "nbconvert_exporter": "python",
   "pygments_lexer": "ipython3",
   "version": "3.12.0"
  }
 },
 "nbformat": 4,
 "nbformat_minor": 5
}
